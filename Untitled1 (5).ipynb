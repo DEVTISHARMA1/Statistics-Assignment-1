{
 "cells": [
  {
   "cell_type": "code",
   "execution_count": 1,
   "id": "f7e5f19b-498d-4b51-8fe6-1be46b8894ff",
   "metadata": {},
   "outputs": [],
   "source": [
    "#1que\n",
    "# the three measures of central tendency- mean,median,mode"
   ]
  },
  {
   "cell_type": "code",
   "execution_count": 2,
   "id": "1868fd63-6760-4a26-8fcb-bd5f7cf62fda",
   "metadata": {},
   "outputs": [],
   "source": [
    "#2que\n",
    "#Mean- The mean is the average of all the data points in a dataset. It's calculated by summing up all the values\n",
    "#and then dividing by the total number of values.\n",
    "#Median-The median is the middle value when the dataset is ordered from least to greatest.\n",
    "#Mode-The mode is the value that appears most frequently in the dataset."
   ]
  },
  {
   "cell_type": "code",
   "execution_count": 3,
   "id": "00469238-65f7-4ee6-82d2-968b86d674e7",
   "metadata": {},
   "outputs": [],
   "source": [
    "#3que\n",
    "import numpy as np\n",
    "data=[178,177,176,177,178.2,178,175,179,180,175,178.9,176.2,177,172.5,178,176.5]"
   ]
  },
  {
   "cell_type": "code",
   "execution_count": 6,
   "id": "7ae2a84b-3c0e-4c88-9695-6b5eeeb7cb2b",
   "metadata": {},
   "outputs": [
    {
     "data": {
      "text/plain": [
       "177.01875"
      ]
     },
     "execution_count": 6,
     "metadata": {},
     "output_type": "execute_result"
    }
   ],
   "source": [
    "np.mean(data)"
   ]
  },
  {
   "cell_type": "code",
   "execution_count": 7,
   "id": "48b40434-12aa-4686-9527-e16ab822bdee",
   "metadata": {},
   "outputs": [
    {
     "data": {
      "text/plain": [
       "177.0"
      ]
     },
     "execution_count": 7,
     "metadata": {},
     "output_type": "execute_result"
    }
   ],
   "source": [
    "np.median(data)"
   ]
  },
  {
   "cell_type": "code",
   "execution_count": 9,
   "id": "edf48137-77e3-4f52-8788-dfa8d76a4b34",
   "metadata": {},
   "outputs": [
    {
     "name": "stderr",
     "output_type": "stream",
     "text": [
      "/tmp/ipykernel_2940/2800027621.py:2: FutureWarning: Unlike other reduction functions (e.g. `skew`, `kurtosis`), the default behavior of `mode` typically preserves the axis it acts along. In SciPy 1.11.0, this behavior will change: the default value of `keepdims` will become False, the `axis` over which the statistic is taken will be eliminated, and the value None will no longer be accepted. Set `keepdims` to True or False to avoid this warning.\n",
      "  stats.mode(data)\n"
     ]
    },
    {
     "data": {
      "text/plain": [
       "ModeResult(mode=array([177.]), count=array([3]))"
      ]
     },
     "execution_count": 9,
     "metadata": {},
     "output_type": "execute_result"
    }
   ],
   "source": [
    "from scipy import stats\n",
    "stats.mode(data)"
   ]
  },
  {
   "cell_type": "code",
   "execution_count": 10,
   "id": "525b1a41-fd71-46d4-80b3-c43b8fc86d85",
   "metadata": {},
   "outputs": [
    {
     "data": {
      "text/plain": [
       "1.7885814036548633"
      ]
     },
     "execution_count": 10,
     "metadata": {},
     "output_type": "execute_result"
    }
   ],
   "source": [
    "#4que\n",
    "np.std(data)"
   ]
  },
  {
   "cell_type": "code",
   "execution_count": 11,
   "id": "9b7e4f98-d003-4804-a630-8c2c002838dc",
   "metadata": {},
   "outputs": [],
   "source": [
    "#5que\n",
    "#Measures of dispersion, such as range, variance, and standard deviation, provide information about how the data \n",
    "#points in a dataset are spread out or dispersed around the central tendency (mean, median, etc.). These measures \n",
    "#quantify the variability or spread of the data, giving you a sense of how \"spread out\" the values are from the \n",
    "#average."
   ]
  },
  {
   "cell_type": "code",
   "execution_count": 12,
   "id": "cb4f8fe5-8e82-4552-b2f1-d0f39ecf3aea",
   "metadata": {},
   "outputs": [],
   "source": [
    "#6que\n",
    "#A Venn diagram is a graphical representation used to show the relationships between different sets or groups of\n",
    "#items. It consists of overlapping circles, each representing a different set, and the overlapping regions \n",
    "#represent the intersections between sets. "
   ]
  },
  {
   "cell_type": "code",
   "execution_count": 16,
   "id": "716988cf-6a0c-4d41-9fdf-eb48633e21a6",
   "metadata": {},
   "outputs": [],
   "source": [
    "#7que\n",
    "A = {2,3,4,5,6,7}\n",
    "B = {0,2,6,8,10}"
   ]
  },
  {
   "cell_type": "code",
   "execution_count": 17,
   "id": "8a644b5f-c0b3-4293-9e6c-80b87565a2eb",
   "metadata": {},
   "outputs": [
    {
     "data": {
      "text/plain": [
       "{2, 6}"
      ]
     },
     "execution_count": 17,
     "metadata": {},
     "output_type": "execute_result"
    }
   ],
   "source": [
    "A.intersection(B)"
   ]
  },
  {
   "cell_type": "code",
   "execution_count": 18,
   "id": "018aaf9d-5a1f-4859-a59e-af8c5b8efa0b",
   "metadata": {},
   "outputs": [
    {
     "data": {
      "text/plain": [
       "{0, 2, 3, 4, 5, 6, 7, 8, 10}"
      ]
     },
     "execution_count": 18,
     "metadata": {},
     "output_type": "execute_result"
    }
   ],
   "source": [
    "A.union(B)"
   ]
  },
  {
   "cell_type": "code",
   "execution_count": 19,
   "id": "29c833d0-e84d-4dc9-8487-37e6c0ea819b",
   "metadata": {},
   "outputs": [],
   "source": [
    "#8que\n",
    "#Skewness in data refers to the asymmetry or lack of symmetry in the distribution of values within a dataset"
   ]
  },
  {
   "cell_type": "code",
   "execution_count": 20,
   "id": "597c5f0a-6b89-426b-b025-7187abd09bc4",
   "metadata": {},
   "outputs": [],
   "source": [
    "#9que\n",
    "#the median will be positioned to the right of the mean"
   ]
  },
  {
   "cell_type": "code",
   "execution_count": 21,
   "id": "19aee483-e42c-49de-bc37-90544e984874",
   "metadata": {},
   "outputs": [],
   "source": [
    "#10que\n",
    "#covariance measures the direction of the relationship between two variables, while correlation measures both the\n",
    "#strength and direction. Correlation provides a standardized measure that is more interpretable and applicable\n",
    "#across different datasets and scales. Both measures are valuable tools in statistical analysis for understanding\n",
    "#relationships between variables."
   ]
  },
  {
   "cell_type": "code",
   "execution_count": 22,
   "id": "ec1af8fa-05ca-4ee6-9e97-985140b8430c",
   "metadata": {},
   "outputs": [],
   "source": [
    " #11que\n",
    " # the measures of central tendency—mean, median, and mode—are all equal and located at the same point in the \n",
    "#distribution."
   ]
  },
  {
   "cell_type": "code",
   "execution_count": 23,
   "id": "179a304f-5e0d-410e-a8bd-aec45ce2bac1",
   "metadata": {},
   "outputs": [],
   "source": [
    "#13que\n",
    "#Covariance and correlation are both measures used to assess the relationship between two variables in a dataset.\n",
    "#While they both provide insights into how two variables change together, they differ in terms of their scale, \n",
    "#interpretation, and properties. "
   ]
  },
  {
   "cell_type": "code",
   "execution_count": null,
   "id": "5347b697-94ab-487c-8560-f67f32679d73",
   "metadata": {},
   "outputs": [],
   "source": [
    "#14que\n",
    "outliers can distort the measures of central tendency and dispersion. The impact varies depending on the number, magnitude, and context of outliers. It's important to identify and consider outliers carefully during data analysis, as they can influence the interpretation of results and the choice of statistical methods."
   ]
  }
 ],
 "metadata": {
  "kernelspec": {
   "display_name": "Python 3 (ipykernel)",
   "language": "python",
   "name": "python3"
  },
  "language_info": {
   "codemirror_mode": {
    "name": "ipython",
    "version": 3
   },
   "file_extension": ".py",
   "mimetype": "text/x-python",
   "name": "python",
   "nbconvert_exporter": "python",
   "pygments_lexer": "ipython3",
   "version": "3.10.8"
  }
 },
 "nbformat": 4,
 "nbformat_minor": 5
}
